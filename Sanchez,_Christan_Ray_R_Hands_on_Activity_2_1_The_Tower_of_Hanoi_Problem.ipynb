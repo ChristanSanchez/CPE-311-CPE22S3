{
  "nbformat": 4,
  "nbformat_minor": 0,
  "metadata": {
    "colab": {
      "provenance": [],
      "authorship_tag": "ABX9TyMC0aoHErWQsFGjn+z+iMDl",
      "include_colab_link": true
    },
    "kernelspec": {
      "name": "python3",
      "display_name": "Python 3"
    },
    "language_info": {
      "name": "python"
    }
  },
  "cells": [
    {
      "cell_type": "markdown",
      "metadata": {
        "id": "view-in-github",
        "colab_type": "text"
      },
      "source": [
        "<a href=\"https://colab.research.google.com/github/ChristanSanchez/CPE-311-CPE22S3/blob/main/Sanchez%2C_Christan_Ray_R_Hands_on_Activity_2_1_The_Tower_of_Hanoi_Problem.ipynb\" target=\"_parent\"><img src=\"https://colab.research.google.com/assets/colab-badge.svg\" alt=\"Open In Colab\"/></a>"
      ]
    },
    {
      "cell_type": "code",
      "execution_count": null,
      "metadata": {
        "colab": {
          "base_uri": "https://localhost:8080/"
        },
        "id": "EAa0iPnlYeG_",
        "outputId": "c5348218-7d0e-4324-f2ce-78b2bea381f4"
      },
      "outputs": [
        {
          "output_type": "stream",
          "name": "stdout",
          "text": [
            "Initial State:\n",
            "Tower A: [3, 2, 1]\n",
            "Tower B: []\n",
            "Tower C: []\n",
            "------------------------------\n",
            "Tower A: [3, 2]\n",
            "Tower B: []\n",
            "Tower C: [1]\n",
            "------------------------------\n",
            "Tower A: [3]\n",
            "Tower B: [2]\n",
            "Tower C: [1]\n",
            "------------------------------\n",
            "Tower A: [3]\n",
            "Tower B: [2, 1]\n",
            "Tower C: []\n",
            "------------------------------\n",
            "Tower A: []\n",
            "Tower B: [2, 1]\n",
            "Tower C: [3]\n",
            "------------------------------\n",
            "Tower A: [1]\n",
            "Tower B: [2]\n",
            "Tower C: [3]\n",
            "------------------------------\n",
            "Tower A: [1]\n",
            "Tower B: []\n",
            "Tower C: [3, 2]\n",
            "------------------------------\n",
            "Tower A: []\n",
            "Tower B: []\n",
            "Tower C: [3, 2, 1]\n",
            "------------------------------\n"
          ]
        }
      ],
      "source": [
        "class Hanoi:\n",
        "    def __init__(self, n): #n is the number of disks\n",
        "        self.n = n\n",
        "        self.TowerA = list(range(n, 0, -1))  # Initialize Tower A with disks where the largest is at the bottom like from right to left\n",
        "        self.TowerB = []  # Empty Tower B\n",
        "        self.TowerC = []  # Empty Tower C\n",
        "\n",
        "        print(\"Initial State:\")\n",
        "        self.print_towers()\n",
        "\n",
        "    def move(self, from_tower, to_tower): # this function moves the top disk to another tower if possible\n",
        "        if from_tower:  # Check if there's a disk to move\n",
        "            disk = from_tower.pop()\n",
        "            to_tower.append(disk)\n",
        "            self.print_towers()\n",
        "\n",
        "    def solve_hanoi(self, n, source, auxiliary, target): #n will be the number of disk to move\n",
        "\n",
        "        if n == 1:  # Only one disk to move\n",
        "            self.move(source, target)\n",
        "        else:\n",
        "\n",
        "            self.solve_hanoi(n-1, source, target, auxiliary) # Move n-1 disks from source to auxiliary using target as buffer\n",
        "            self.move(source, target) # Move the nth disk directly from source to target\n",
        "            self.solve_hanoi(n-1, auxiliary, source, target) # Move the n-1 disks from auxiliary to target using source as buffer\n",
        "\n",
        "    def print_towers(self): #this is a neat way to print out the current state of the towers\n",
        "        print(f\"Tower A: {self.TowerA}\")\n",
        "        print(f\"Tower B: {self.TowerB}\")\n",
        "        print(f\"Tower C: {self.TowerC}\")\n",
        "        print(\"-\" * 30)\n",
        "\n",
        "# Initialize the game with 3 disks\n",
        "hanoi = Hanoi(3)\n",
        "\n",
        "# Solve the Tower of Hanoi puzzle\n",
        "hanoi.solve_hanoi(hanoi.n, hanoi.TowerA, hanoi.TowerB, hanoi.TowerC)\n"
      ]
    }
  ]
}