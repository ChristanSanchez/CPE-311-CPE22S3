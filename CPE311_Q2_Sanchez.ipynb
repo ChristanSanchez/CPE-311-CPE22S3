{
 "cells": [
  {
   "cell_type": "raw",
   "id": "7356282c-337f-4082-8fca-e8e7986ba36b",
   "metadata": {},
   "source": [
    "You are given n types of coin denominations of values v(1) < v(2) < ... < v(n) (all integers). Assume v(1) = 1, so you can always make change for any amount of money C. Give an algorithm which makes change for an amount of money C with as few coins as possible. [on problem set 4"
   ]
  },
  {
   "cell_type": "code",
   "execution_count": 46,
   "id": "a86f6f89-8ed5-4299-a7eb-712c1dbc81b2",
   "metadata": {},
   "outputs": [
    {
     "ename": "TypeError",
     "evalue": "'<=' not supported between instances of 'list' and 'int'",
     "output_type": "error",
     "traceback": [
      "\u001b[1;31m---------------------------------------------------------------------------\u001b[0m",
      "\u001b[1;31mTypeError\u001b[0m                                 Traceback (most recent call last)",
      "Cell \u001b[1;32mIn[46], line 19\u001b[0m\n\u001b[0;32m     16\u001b[0m value \u001b[38;5;241m=\u001b[39m [\u001b[38;5;241m10\u001b[39m,\u001b[38;5;241m20\u001b[39m,\u001b[38;5;241m30\u001b[39m]\n\u001b[0;32m     17\u001b[0m tempDict \u001b[38;5;241m=\u001b[39m {}\n\u001b[1;32m---> 19\u001b[0m make_change(amount,value,tempDict)\n",
      "Cell \u001b[1;32mIn[46], line 2\u001b[0m, in \u001b[0;36mmake_change\u001b[1;34m(amount, value, memo)\u001b[0m\n\u001b[0;32m      1\u001b[0m \u001b[38;5;28;01mdef\u001b[39;00m \u001b[38;5;21mmake_change\u001b[39m(amount,value,memo \u001b[38;5;241m=\u001b[39m{}):\n\u001b[1;32m----> 2\u001b[0m     \u001b[38;5;28;01mif\u001b[39;00m amount \u001b[38;5;241m<\u001b[39m\u001b[38;5;241m=\u001b[39m \u001b[38;5;241m0\u001b[39m:\n\u001b[0;32m      3\u001b[0m         \u001b[38;5;28;01mreturn\u001b[39;00m {}\n\u001b[0;32m      5\u001b[0m     \u001b[38;5;28;01mtry\u001b[39;00m:\n",
      "\u001b[1;31mTypeError\u001b[0m: '<=' not supported between instances of 'list' and 'int'"
     ]
    }
   ],
   "source": [
    "def make_change(amount,value,memo ={}):\n",
    "    if amount <= 0:\n",
    "        return {}\n",
    "        \n",
    "    try:\n",
    "        return memo(amount)\n",
    "        \n",
    "    except KeyError:\n",
    "        \n",
    "        best_change = amount[i](amount,value,memo) - value[i](amount,value,memo) \n",
    "        \n",
    "    return best_change\n",
    "\n",
    "\n",
    "amount = [100,200,300]\n",
    "value = [10,20,30]\n",
    "tempDict = {}\n",
    "\n",
    "make_change(amount,value,tempDict)"
   ]
  }
 ],
 "metadata": {
  "kernelspec": {
   "display_name": "Python 3 (ipykernel)",
   "language": "python",
   "name": "python3"
  },
  "language_info": {
   "codemirror_mode": {
    "name": "ipython",
    "version": 3
   },
   "file_extension": ".py",
   "mimetype": "text/x-python",
   "name": "python",
   "nbconvert_exporter": "python",
   "pygments_lexer": "ipython3",
   "version": "3.12.4"
  }
 },
 "nbformat": 4,
 "nbformat_minor": 5
}
