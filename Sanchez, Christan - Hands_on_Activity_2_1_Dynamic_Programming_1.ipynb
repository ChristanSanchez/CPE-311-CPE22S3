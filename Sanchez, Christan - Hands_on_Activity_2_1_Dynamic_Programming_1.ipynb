{
  "cells": [
    {
      "cell_type": "markdown",
      "id": "f1c6ec95",
      "metadata": {
        "id": "f1c6ec95"
      },
      "source": [
        "# Hands-on Activity 2.1 : Dynamic Programming"
      ]
    },
    {
      "cell_type": "markdown",
      "id": "56dacba1",
      "metadata": {
        "id": "56dacba1"
      },
      "source": [
        "#### Objective(s):\n",
        "\n",
        "This activity aims to demonstrate how to use dynamic programming to solve problems."
      ]
    },
    {
      "cell_type": "markdown",
      "id": "e51f84e3",
      "metadata": {
        "id": "e51f84e3"
      },
      "source": [
        "#### Intended Learning Outcomes (ILOs):\n",
        "* Differentiate recursion method from dynamic programming to solve problems.\n",
        "* Demonstrate how to  solve real-world problems using dynamic programming\n"
      ]
    },
    {
      "cell_type": "markdown",
      "id": "39047b1a",
      "metadata": {
        "id": "39047b1a"
      },
      "source": [
        "#### Resources:\n",
        "* Jupyter Notebook\n"
      ]
    },
    {
      "cell_type": "markdown",
      "id": "cb5360c0",
      "metadata": {
        "id": "cb5360c0"
      },
      "source": [
        "#### Procedures:"
      ]
    },
    {
      "cell_type": "markdown",
      "id": "206a914c",
      "metadata": {
        "id": "206a914c"
      },
      "source": [
        "1. Create a code that demonstrate how to use recursion method to solve problem"
      ]
    },
    {
      "cell_type": "markdown",
      "id": "5744a876",
      "metadata": {
        "id": "5744a876"
      },
      "source": [
        "2. Create a program codes that demonstrate how to use dynamic programming to solve the same problem"
      ]
    },
    {
      "cell_type": "markdown",
      "id": "8e3f6572",
      "metadata": {
        "id": "8e3f6572"
      },
      "source": [
        "##### Question:\n",
        "Explain the difference of using the recursion from dynamic programming using the given sample codes to solve the same problem"
      ]
    },
    {
      "cell_type": "markdown",
      "id": "b5a71b53",
      "metadata": {
        "id": "b5a71b53"
      },
      "source": [
        "Type your answer here:\n",
        "\n",
        "Recursion and dynamic programming both aim to solve the same problem, but they approach it differently. The recursive solution solves the problem by calling the function repeatedly for each combination of choices, leading to overlapping subproblems and redundant calculations. This can cause inefficiency as the problem size grows. On the other hand, dynamic programming avoids this inefficiency by storing results of subproblems in a table, which helps it reuse previously computed values, making it faster and more efficient for larger problems.\n",
        "\n"
      ]
    },
    {
      "cell_type": "markdown",
      "id": "60074702",
      "metadata": {
        "id": "60074702"
      },
      "source": [
        "3. Create a sample program codes to simulate bottom-up dynamic programming"
      ]
    },
    {
      "cell_type": "markdown",
      "id": "e629eb89",
      "metadata": {
        "id": "e629eb89"
      },
      "source": [
        "4. Create a sample program codes that simulate tops-down dynamic programming"
      ]
    },
    {
      "cell_type": "markdown",
      "id": "c2e2434c",
      "metadata": {
        "id": "c2e2434c"
      },
      "source": [
        "#### Question:\n",
        " Explain the difference between bottom-up from top-down dynamic programming using the given sample codes"
      ]
    },
    {
      "cell_type": "markdown",
      "id": "ac97e063",
      "metadata": {
        "id": "ac97e063"
      },
      "source": [
        "Type your answer here:\n",
        "\n",
        "The difference between bottom-up and top-down dynamic programming lies in how they build the solution. In top-down dynamic programming, we start with the original problem and break it down into smaller subproblems recursively, solving and memoizing the results as we go. In the bottom-up approach, we solve the smallest subproblems first and build up the solution iteratively, filling in the table until we reach the desired result. The bottom-up approach can be more efficient in terms of space and time because it avoids the overhead of recursion and uses an iterative approach to fill the table.\n",
        "\n",
        "\n",
        "\n",
        "\n",
        "\n",
        "\n",
        "\n"
      ]
    },
    {
      "cell_type": "markdown",
      "id": "f7a5bfbd",
      "metadata": {
        "id": "f7a5bfbd"
      },
      "source": [
        "0/1 Knapsack Problem\n",
        "\n",
        "* Analyze three different techniques to solve knapsacks problem\n",
        "1. Recursion\n",
        "2. Dynamic Programming\n",
        "3. Memoization"
      ]
    },
    {
      "cell_type": "code",
      "source": [
        "#sample code for knapsack problem using recursion\n",
        "def rec_knapSack(w, wt, val, n):\n",
        "\n",
        "  #base case\n",
        "  #defined as nth item is empty;\n",
        "  #or the capacity w is 0\n",
        "  if n == 0 or w == 0:\n",
        "    return 0\n",
        "\n",
        "  #if weight of the nth item is more than\n",
        "  #the capacity W, then this item cannot be included\n",
        "  #as part of the optimal solution\n",
        "  if(wt[n-1] > w):\n",
        "    return rec_knapSack(w, wt, val, n-1)\n",
        "\n",
        "  #return the maximum of the two cases:\n",
        "  # (1) include the nth item\n",
        "  # (2) don't include the nth item\n",
        "  else:\n",
        "    return max(\n",
        "        val[n-1] + rec_knapSack(\n",
        "            w-wt[n-1], wt, val, n-1),\n",
        "            rec_knapSack(w, wt, val, n-1)\n",
        "    )\n",
        "\n",
        "#To test:\n",
        "val = [60, 100, 120] #values for the items\n",
        "wt = [10, 20, 30] #weight of the items\n",
        "w = 50 #knapsack weight capacity\n",
        "n = len(val) #number of items\n",
        "\n",
        "rec_knapSack(w, wt, val, n)\n"
      ],
      "metadata": {
        "id": "15SVHF85_1Ji",
        "colab": {
          "base_uri": "https://localhost:8080/"
        },
        "outputId": "2f94cee1-c5f5-46a1-81d2-5f6fe20a69e9"
      },
      "id": "15SVHF85_1Ji",
      "execution_count": 6,
      "outputs": [
        {
          "output_type": "execute_result",
          "data": {
            "text/plain": [
              "220"
            ]
          },
          "metadata": {},
          "execution_count": 6
        }
      ]
    },
    {
      "cell_type": "code",
      "source": [
        "#Dynamic Programming for the Knapsack Problem\n",
        "def DP_knapSack(w, wt, val, n):\n",
        "  #create the table\n",
        "  table = [[0 for x in range(w+1)] for x in range (n+1)]\n",
        "\n",
        "  #populate the table in a bottom-up approach\n",
        "  for i in range(n+1):\n",
        "    for w in range(w+1):\n",
        "      if i == 0 or w == 0:\n",
        "        table[i][w] = 0\n",
        "      elif wt[i-1] <= w:\n",
        "        table[i][w] = max(val[i-1] + table[i-1][w-wt[i-1]],\n",
        "                          table[i-1][w])\n",
        "  return table[n][w]"
      ],
      "metadata": {
        "id": "A8OU1sUJ_1ES"
      },
      "id": "A8OU1sUJ_1ES",
      "execution_count": null,
      "outputs": []
    },
    {
      "cell_type": "code",
      "source": [
        "#To test:\n",
        "val = [60, 100, 120]\n",
        "wt = [10, 20, 30]\n",
        "w = 50\n",
        "n = len(val)\n",
        "\n",
        "DP_knapSack(w, wt, val, n)"
      ],
      "metadata": {
        "colab": {
          "base_uri": "https://localhost:8080/"
        },
        "id": "GUNeEPHrd-N1",
        "outputId": "4829e602-248b-48f8-cbd3-e75c4d87d3b6"
      },
      "id": "GUNeEPHrd-N1",
      "execution_count": null,
      "outputs": [
        {
          "output_type": "execute_result",
          "data": {
            "text/plain": [
              "220"
            ]
          },
          "metadata": {},
          "execution_count": 29
        }
      ]
    },
    {
      "cell_type": "code",
      "source": [
        "#Sample for top-down DP approach (memoization)\n",
        "#initialize the list of items\n",
        "val = [60, 100, 120]\n",
        "wt = [10, 20, 30]\n",
        "w = 50\n",
        "n = len(val)\n",
        "\n",
        "#initialize the container for the values that have to be stored\n",
        "#values are initialized to -1\n",
        "calc =[[-1 for i in range(w+1)] for j in range(n+1)]\n",
        "\n",
        "\n",
        "def mem_knapSack(wt, val, w, n):\n",
        "  #base conditions\n",
        "  if n == 0 or w == 0:\n",
        "    return 0\n",
        "  if calc[n][w] != -1:\n",
        "    return calc[n][w]\n",
        "\n",
        "  #compute for the other cases\n",
        "  if wt[n-1] <= w:\n",
        "    calc[n][w] = max(val[n-1] + mem_knapSack(wt, val, w-wt[n-1], n-1),\n",
        "                     mem_knapSack(wt, val, w, n-1))\n",
        "    return calc[n][w]\n",
        "  elif wt[n-1] > w:\n",
        "    calc[n][w] = mem_knapSack(wt, val, w, n-1)\n",
        "    return calc[n][w]\n",
        "\n",
        "mem_knapSack(wt, val, w, n)"
      ],
      "metadata": {
        "id": "VgwTX-XT_0_h",
        "colab": {
          "base_uri": "https://localhost:8080/"
        },
        "outputId": "6f3c2cc6-01fc-433a-ae1e-cbb99976c028"
      },
      "id": "VgwTX-XT_0_h",
      "execution_count": null,
      "outputs": [
        {
          "output_type": "execute_result",
          "data": {
            "text/plain": [
              "220"
            ]
          },
          "metadata": {},
          "execution_count": 31
        }
      ]
    },
    {
      "cell_type": "code",
      "source": [],
      "metadata": {
        "id": "0Kol2Rn1ZQNA"
      },
      "id": "0Kol2Rn1ZQNA",
      "execution_count": null,
      "outputs": []
    },
    {
      "cell_type": "markdown",
      "source": [
        "**Code Analysis**\n",
        "\n",
        "# 1. Recursion\n",
        "The recursive approach checks each item and decides whether to include it or not by breaking the problem into smaller subproblems. It's easy to understand and follows the problem’s natural decision-making structure. However, it’s inefficient for large problems since it recalculates the same subproblems multiple times.\n",
        "\n",
        "# 2. Bottom-Up Dynamic Programming\n",
        "This approach builds the solution iteratively using a table, solving smaller subproblems first and building up to the final solution. It's much faster than recursion because it avoids redundant calculations. The downside is that it requires extra memory for the table.\n",
        "\n",
        "# 3. Top-Down Dynamic Programming with Memoization\n",
        "Memoization stores the results of subproblems while using recursion, ensuring that each subproblem is solved only once. It keeps the recursive approach but improves efficiency by reusing previous calculations. Like bottom-up DP, it still needs extra memory for the memoization table but is more flexible.\n",
        "\n"
      ],
      "metadata": {
        "id": "-UXSSblDcF8T"
      },
      "id": "-UXSSblDcF8T"
    },
    {
      "cell_type": "markdown",
      "source": [
        "## Seatwork 2.1"
      ],
      "metadata": {
        "id": "IGsdUGCUcTFd"
      },
      "id": "IGsdUGCUcTFd"
    },
    {
      "cell_type": "markdown",
      "id": "0462053d",
      "metadata": {
        "id": "0462053d"
      },
      "source": [
        "Task 1: Modify the three techniques to include additional criterion in the knapsack problems"
      ]
    },
    {
      "cell_type": "code",
      "execution_count": 14,
      "id": "ed2f6186",
      "metadata": {
        "id": "ed2f6186",
        "colab": {
          "base_uri": "https://localhost:8080/"
        },
        "outputId": "a6997585-e37a-4275-d06a-b238c7369a43"
      },
      "outputs": [
        {
          "output_type": "stream",
          "name": "stdout",
          "text": [
            "220\n",
            "220\n",
            "220\n"
          ]
        }
      ],
      "source": [
        "#type your code here\n",
        "#Recursion\n",
        "\n",
        "def rec_knapSack(w, wt, val, n, max_items):\n",
        "\n",
        "    # Base case: the number of items, weight, and maxitems this will return 0\n",
        "    if n == 0 or w == 0 or max_items == 0:\n",
        "        return 0\n",
        "\n",
        "    # If the current item is too heavy for the weight which is 50 this will be skipped\n",
        "    if wt[n-1] > w:\n",
        "        return rec_knapSack(w, wt, val, n-1, max_items)\n",
        "\n",
        "    # Try both choices which is first get the item and Skip the item\n",
        "    get = val[n-1] + rec_knapSack(w - wt[n-1], wt, val, n-1, max_items - 1)\n",
        "    passed = rec_knapSack(w, wt, val, n-1, max_items)\n",
        "\n",
        "    return max(get, passed)\n",
        "\n",
        "val = [60, 100, 120]  # Item values\n",
        "wt = [10, 20, 30]  # Item weights\n",
        "w = 50  # Knapsack capacity\n",
        "n = len(val)  # Number of items\n",
        "max_items = 2  # Max number of items allowed\n",
        "print(rec_knapSack(w, wt, val, n, max_items))\n",
        "\n",
        "#Dynamic\n",
        "def DP_knapSack(w, wt, val, n, max_items):\n",
        "    # I initialize the table to store results, dimensions which  are (n+1) x (w+1)\n",
        "    table = [[0 for _ in range(w + 1)] for _ in range(n + 1)]\n",
        "\n",
        "    # to fill the table by considering each item one by one\n",
        "    for i in range(1, n + 1):\n",
        "        for j in range(1, w + 1):\n",
        "\n",
        "            # If the item can fit in the knapsack, we have two choices either get or passed\n",
        "            if wt[i - 1] <= j:\n",
        "\n",
        "                table[i][j] = max(\n",
        "                    val[i - 1] + table[i - 1][j - wt[i - 1]],  # get the item\n",
        "                    table[i - 1][j]  # pass the item\n",
        "                )\n",
        "\n",
        "            else:\n",
        "                table[i][j] = table[i - 1][j]  # pass the item not fit\n",
        "\n",
        "    # this will return the max value\n",
        "    return table[n][w]\n",
        "\n",
        "# Example usage\n",
        "val = [60, 100, 120]\n",
        "wt = [10, 20, 30]\n",
        "w = 50\n",
        "max_items = 2\n",
        "n = len(val)\n",
        "print(DP_knapSack(w, wt, val, n, max_items))  # Output the result\n",
        "\n",
        "\n",
        "\n",
        "#Memoization\n",
        "def mem_knapSack(wt, val, w, n, max_items, calc):\n",
        "    # Base case: No items left, no capacity left, or max_items limit reached\n",
        "    if n == 0 or w == 0 or max_items == 0:\n",
        "        return 0\n",
        "\n",
        "    try:\n",
        "        # If the value has already been computed, return it\n",
        "        if calc[n][w] != -1:\n",
        "            return calc[n][w]\n",
        "    except KeyError:\n",
        "        # If the value is not found in the memoized table, compute it\n",
        "        pass\n",
        "\n",
        "    # Case 1: If the current item is too heavy, skip it\n",
        "    if wt[n - 1] > w:\n",
        "        result = mem_knapSack(wt, val, w, n - 1, max_items, calc)\n",
        "\n",
        "    else:\n",
        "        # Case 2: Try both taking and not taking the item\n",
        "        take = val[n - 1] + mem_knapSack(wt, val, w - wt[n - 1], n - 1, max_items - 1, calc)\n",
        "        skip = mem_knapSack(wt, val, w, n - 1, max_items, calc)\n",
        "        result = max(take, skip)\n",
        "\n",
        "    # Store the result in the memoization table\n",
        "    calc[n][w] = result\n",
        "    return result\n",
        "\n",
        "# Example usage\n",
        "val = [60, 100, 120]\n",
        "wt = [10, 20, 30]\n",
        "w = 50\n",
        "max_items = 2\n",
        "n = len(val)\n",
        "\n",
        "# Initialize the memoization table (use -1 to indicate that the value has not been computed)\n",
        "calc = [[-1 for _ in range(w + 1)] for _ in range(n + 1)]\n",
        "\n",
        "# Compute and print the maximum value that can be obtained\n",
        "print(mem_knapSack(wt, val, w, n, max_items, calc))  # Output the result\n"
      ]
    },
    {
      "cell_type": "markdown",
      "id": "d97e864e",
      "metadata": {
        "id": "d97e864e"
      },
      "source": [
        "Fibonacci Numbers"
      ]
    },
    {
      "cell_type": "code",
      "source": [],
      "metadata": {
        "id": "HoqkUdvj_2ZZ"
      },
      "id": "HoqkUdvj_2ZZ",
      "execution_count": null,
      "outputs": []
    },
    {
      "cell_type": "markdown",
      "id": "f44e88aa",
      "metadata": {
        "id": "f44e88aa"
      },
      "source": [
        "Task 2: Create a sample program that find the nth number of Fibonacci Series using Dynamic Programming"
      ]
    },
    {
      "cell_type": "code",
      "execution_count": 20,
      "id": "745871be",
      "metadata": {
        "id": "745871be",
        "colab": {
          "base_uri": "https://localhost:8080/"
        },
        "outputId": "42768749-c62b-4462-8c4c-099f9d5793d3"
      },
      "outputs": [
        {
          "output_type": "stream",
          "name": "stdout",
          "text": [
            "Fibonacci(5) = 5\n"
          ]
        }
      ],
      "source": [
        "#type your code here\n",
        "\n",
        "def fibonacci(n):\n",
        "    # Base cases: If n is 0 or 1, return n directly\n",
        "    if n == 1:\n",
        "        return 0\n",
        "    if n == 2:\n",
        "        return 1\n",
        "\n",
        "    # Create a DP table to store Fibonacci numbers up to nth term\n",
        "    fib_table = [0] * (n + 1)  # Array of size (n+1), initialized with 0\n",
        "\n",
        "    # Set base values:\n",
        "    fib_table[0] = 0\n",
        "    fib_table[1] = 1\n",
        "\n",
        "    # Compute Fibonacci numbers iteratively\n",
        "    for i in range(2, n + 1):\n",
        "        fib_table[i] = fib_table[i - 1] + fib_table[i - 2]\n",
        "\n",
        "    # Return the nth Fibonacci number\n",
        "    return fib_table[n]\n",
        "\n",
        "# Example usage:\n",
        "n = 5  # Find the 10th Fibonacci number\n",
        "print(f\"Fibonacci({n}) = {fibonacci(n)}\")\n"
      ]
    },
    {
      "cell_type": "markdown",
      "id": "070ddd75",
      "metadata": {
        "id": "070ddd75"
      },
      "source": [
        "## Supplementary Problem (HOA 2.1 Submission):\n",
        "* Choose a real-life problem\n",
        "* Use recursion and dynamic programming to solve the problem"
      ]
    },
    {
      "cell_type": "markdown",
      "source": [
        "Problem: Weekly School Budgeting\n",
        "Scenario:\n",
        "You have a set budget for the week (like $100), and you need to spend it on different things like meals, transport, books, and entertainment. Each of these things has a cost, and you want to get the most value from your budget while staying within the limit."
      ],
      "metadata": {
        "id": "61VlI3_C2FaR"
      },
      "id": "61VlI3_C2FaR"
    },
    {
      "cell_type": "code",
      "execution_count": 21,
      "id": "86eef507",
      "metadata": {
        "id": "86eef507",
        "colab": {
          "base_uri": "https://localhost:8080/"
        },
        "outputId": "79db8d2d-b913-4033-b61f-1a2a0474724a"
      },
      "outputs": [
        {
          "output_type": "stream",
          "name": "stdout",
          "text": [
            "Maximum benefit (recursive): 300\n"
          ]
        }
      ],
      "source": [
        "#type your code here for recursion programming solution\n",
        "# Recursive solution to the Budgeting problem\n",
        "\n",
        "def rec_budget(w, costs, benefits, n):\n",
        "    # Base case: No budget left or no categories left\n",
        "    if n == 0 or w == 0:\n",
        "        return 0\n",
        "\n",
        "    # If the current category's cost is greater than the available budget, skip it\n",
        "    if costs[n - 1] > w:\n",
        "        return rec_budget(w, costs, benefits, n - 1)\n",
        "\n",
        "    # Otherwise, return the maximum benefit by either including or excluding the current category\n",
        "    else:\n",
        "        include_category = benefits[n - 1] + rec_budget(w - costs[n - 1], costs, benefits, n - 1)\n",
        "        exclude_category = rec_budget(w, costs, benefits, n - 1)\n",
        "        return max(include_category, exclude_category)\n",
        "\n",
        "# Example usage:\n",
        "costs = [20, 30, 40, 50]  # Costs of categories (e.g., meals, transport, books, entertainment)\n",
        "benefits = [60, 90, 120, 150]  # Benefits of each category\n",
        "budget = 100  # Total budget available\n",
        "n = len(costs)  # Number of categories\n",
        "\n",
        "print(f\"Maximum benefit (recursive): {rec_budget(budget, costs, benefits, n)}\")\n"
      ]
    },
    {
      "cell_type": "code",
      "execution_count": 22,
      "id": "73b071b6",
      "metadata": {
        "id": "73b071b6",
        "colab": {
          "base_uri": "https://localhost:8080/"
        },
        "outputId": "81f96429-3806-431d-8989-2a750751538f"
      },
      "outputs": [
        {
          "output_type": "stream",
          "name": "stdout",
          "text": [
            "Maximum benefit (dynamic programming): 300\n"
          ]
        }
      ],
      "source": [
        "#type your code here for dynamic programming solution\n",
        "# Dynamic programming solution to the Budgeting problem\n",
        "\n",
        "def dp_budget(w, costs, benefits, n):\n",
        "    # Create a table where table[i][w] is the maximum benefit for the first i categories and a budget of w\n",
        "    table = [[0 for _ in range(w + 1)] for _ in range(n + 1)]\n",
        "\n",
        "    # Fill the table from the bottom up\n",
        "    for i in range(n + 1):\n",
        "        for j in range(w + 1):\n",
        "            if i == 0 or j == 0:\n",
        "                table[i][j] = 0  # If no budget or no categories, no benefit\n",
        "            elif costs[i - 1] <= j:\n",
        "                # If the current category's cost fits in the current budget\n",
        "                include_category = benefits[i - 1] + table[i - 1][j - costs[i - 1]]\n",
        "                exclude_category = table[i - 1][j]\n",
        "                table[i][j] = max(include_category, exclude_category)\n",
        "            else:\n",
        "                table[i][j] = table[i - 1][j]\n",
        "\n",
        "    # The last cell of the table gives the maximum benefit\n",
        "    return table[n][w]\n",
        "\n",
        "# Example usage:\n",
        "costs = [20, 30, 40, 50]  # Costs of categories\n",
        "benefits = [60, 90, 120, 150]  # Benefits of each category\n",
        "budget = 100  # Total budget available\n",
        "n = len(costs)  # Number of categories\n",
        "\n",
        "print(f\"Maximum benefit (dynamic programming): {dp_budget(budget, costs, benefits, n)}\")\n"
      ]
    },
    {
      "cell_type": "markdown",
      "id": "bb0ed6a9",
      "metadata": {
        "id": "bb0ed6a9"
      },
      "source": [
        "#### Conclusion"
      ]
    },
    {
      "cell_type": "markdown",
      "source": [
        "In this exercise, I explored two approaches to solving the budgeting problem: recursion and dynamic programming.\n",
        "\n",
        "Recursion: While simple and easy to understand, the recursive approach was slower for larger budgets and more categories. It essentially tries every possible combination of choices, which makes it inefficient as the number of categories grows.\n",
        "\n",
        "Dynamic Programming: This method was much more efficient because it saves previous results in a table, avoiding redundant calculations. It’s a lot faster for larger problems because it breaks the problem down into smaller subproblems and stores the solutions.\n",
        "\n",
        "Reflecting on this, I realized that recursion can be great for smaller problems but can become quite inefficient when scaling up. Dynamic programming is a more practical approach for larger, more complex problems because it saves time by reusing calculations. This exercise gave me a better understanding of when to use each approach based on the problem’s size and complexity."
      ],
      "metadata": {
        "id": "y_LRoxYm2fqP"
      },
      "id": "y_LRoxYm2fqP"
    }
  ],
  "metadata": {
    "kernelspec": {
      "display_name": "Python 3",
      "language": "python",
      "name": "python3"
    },
    "language_info": {
      "codemirror_mode": {
        "name": "ipython",
        "version": 3
      },
      "file_extension": ".py",
      "mimetype": "text/x-python",
      "name": "python",
      "nbconvert_exporter": "python",
      "pygments_lexer": "ipython3",
      "version": "3.7.10"
    },
    "colab": {
      "provenance": []
    }
  },
  "nbformat": 4,
  "nbformat_minor": 5
}